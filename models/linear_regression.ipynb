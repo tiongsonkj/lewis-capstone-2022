{
 "cells": [
  {
   "cell_type": "code",
   "execution_count": null,
   "metadata": {},
   "outputs": [],
   "source": [
    "import numpy as np\n",
    "import matplotlib.pyplot as plt\n",
    "import pandas as pd\n",
    "from sklearn.linear_model import LinearRegression"
   ]
  },
  {
   "cell_type": "code",
   "execution_count": null,
   "metadata": {},
   "outputs": [],
   "source": [
    "# this csv file was created from code that exists in the final.py\n",
    "# originally, i had the preprocessing code and csv in its own separate directory\n",
    "data = pd.read_csv('../code/preprocessing/punts_one_hot_encoded.csv')"
   ]
  },
  {
   "cell_type": "code",
   "execution_count": null,
   "metadata": {},
   "outputs": [],
   "source": [
    "data = data.drop(['gameId', 'playId', 'missedTackler', 'assistTackler', 'tackler', 'gunners', 'puntRushers',\n",
    "'specialTeamsResult', 'season', 'gameDate', 'gameTimeEastern', 'homeTeamAbbr', 'visitorTeamAbbr',\n",
    "'playDescription', 'possessionTeam', 'specialTeamsPlayType', 'specialTeamsResult', 'kickerId', 'returnerId', 'kickBlockerId',\n",
    "'yardlineSide', 'penaltyJerseyNumbers', 'penaltyCodes', 'playResult',\n",
    "'kickDirectionIntended_L', 'kickDirectionIntended_R', 'kickDirectionIntended_C',\n",
    "'returnDirectionIntended_C', 'returnDirectionIntended_L', 'returnDirectionIntended_R',\n",
    "'specialTeamsSafeties', 'vises', 'penaltyYards', 'passResult', 'return_team_min', 'gameClock', 'down'], axis=1)"
   ]
  },
  {
   "cell_type": "markdown",
   "metadata": {},
   "source": [
    "# input and output should be numpy arrays"
   ]
  },
  {
   "cell_type": "code",
   "execution_count": null,
   "metadata": {},
   "outputs": [],
   "source": [
    "# replace all nans in target variable with 0\n",
    "data['kickReturnYardage'].fillna(0, inplace=True)\n",
    "# target variable\n",
    "y = data['kickReturnYardage'].values"
   ]
  },
  {
   "cell_type": "code",
   "execution_count": null,
   "metadata": {},
   "outputs": [],
   "source": [
    "# remove kick return yardage since it is target variable\n",
    "x = data[data.columns.difference(['kickReturnYardage'])]\n",
    "# grab columns we thought were important from SOM\n",
    "x = x.loc[:, ['hangTime', 'snapTime', 'operationTime', 'kickLength', 'yardsToGo', 'yardlineNumber', 'absoluteYardlineNumber', 'kicking_team__mean', 'kicking_team_std', 'kicking_team_min',\n",
    "       'return_team__mean', 'return_team_std', 'kickType_A',\n",
    "       'kickType_N', 'kickDirectionActual_C', 'kickDirectionActual_L',\n",
    "       'kickDirectionActual_R', 'returnDirectionActual_C',\n",
    "       'returnDirectionActual_L', 'returnDirectionActual_R',\n",
    "       'kickContactType_BC']].values"
   ]
  },
  {
   "cell_type": "markdown",
   "metadata": {},
   "source": [
    "# Model"
   ]
  },
  {
   "cell_type": "code",
   "execution_count": null,
   "metadata": {},
   "outputs": [],
   "source": [
    "model = LinearRegression(normalize=True)\n",
    "model.fit(x, y)"
   ]
  },
  {
   "cell_type": "code",
   "execution_count": null,
   "metadata": {},
   "outputs": [],
   "source": [
    "r_sq = model.score(x, y)\n",
    "print('coefficient of determination:', r_sq)\n",
    "print('intercept:', model.intercept_)\n",
    "print('slope:', model.coef_)"
   ]
  },
  {
   "cell_type": "markdown",
   "metadata": {},
   "source": [
    "trying to improve model"
   ]
  },
  {
   "cell_type": "code",
   "execution_count": null,
   "metadata": {},
   "outputs": [],
   "source": [
    "x = data.loc[:, ['hangTime', 'kickLength', 'kicking_team__mean', 'kicking_team_std', 'kicking_team_min',\n",
    "       'return_team__mean', 'return_team_std', 'returnDirectionActual_C',\n",
    "       'returnDirectionActual_L', 'returnDirectionActual_R', 'kickContactType_BC', 'kickContactType_BOG', 'kickContactType_CC',\n",
    "       'kickContactType_CFFG', 'kickContactType_KTB', 'kickContactType_MBDR']].values\n",
    "\n",
    "new_model = LinearRegression(normalize=True)\n",
    "new_model.fit(x, y)\n",
    "r_squared = new_model.score(x, y)\n",
    "print('coefficient of determination:', r_squared)"
   ]
  },
  {
   "cell_type": "code",
   "execution_count": null,
   "metadata": {},
   "outputs": [],
   "source": [
    "x = data.loc[:, ['week', 'quarter', 'preSnapHomeScore', 'hangTime', 'snapTime', 'operationTime', 'kickLength', 'yardsToGo', 'yardlineNumber',  'kicking_team__mean', 'kicking_team_std', 'kicking_team_min',\n",
    "       'return_team__mean', 'return_team_std', 'kickType_A',\n",
    "       'kickType_N', 'kickDirectionActual_C', 'kickDirectionActual_L',\n",
    "       'kickDirectionActual_R', 'returnDirectionActual_C',\n",
    "       'returnDirectionActual_L', 'returnDirectionActual_R', 'snapDetail_<', 'snapDetail_>',\n",
    "       'snapDetail_H', 'snapDetail_L', 'snapDetail_OK']].values\n",
    "\n",
    "\n",
    "model = LinearRegression(normalize=True)\n",
    "model.fit(x, y)\n",
    "r_squared = model.score(x, y)\n",
    "print('coefficient of determination:', r_squared)"
   ]
  }
 ],
 "metadata": {
  "language_info": {
   "name": "python"
  },
  "orig_nbformat": 4
 },
 "nbformat": 4,
 "nbformat_minor": 2
}
