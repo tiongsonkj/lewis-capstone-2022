{
 "cells": [
  {
   "cell_type": "code",
   "execution_count": null,
   "metadata": {},
   "outputs": [],
   "source": [
    "import numpy as np\n",
    "import matplotlib.pyplot as plt\n",
    "import pandas as pd\n",
    "from sklearn.model_selection import train_test_split\n",
    "from sklearn.linear_model import LogisticRegression\n",
    "from sklearn import metrics\n",
    "from sklearn.preprocessing import LabelEncoder\n",
    "\n",
    "from sklearn.model_selection import cross_validate\n",
    "\n",
    "from sklearn.compose import TransformedTargetRegressor\n",
    "from sklearn.ensemble import GradientBoostingClassifier, RandomForestClassifier, AdaBoostClassifier\n",
    "from sklearn.preprocessing import QuantileTransformer\n",
    "import lightgbm as lgbm\n",
    "import xgboost as xg\n",
    "from sklearn.metrics import r2_score, mean_absolute_error, mean_squared_error\n",
    "from sklearn.model_selection import GridSearchCV\n",
    "from sklearn import svm\n"
   ]
  },
  {
   "cell_type": "code",
   "execution_count": null,
   "metadata": {},
   "outputs": [],
   "source": [
    "# this csv file was created from code that exists in the final.py\n",
    "# originally, i had the preprocessing code and csv in its own separate directory\n",
    "data = pd.read_csv('../code/preprocessing/punts_one_hot_encoded.csv')"
   ]
  },
  {
   "cell_type": "code",
   "execution_count": null,
   "metadata": {},
   "outputs": [],
   "source": [
    "data = data.drop(['gameId', 'playId', 'missedTackler', 'assistTackler', 'tackler', 'gunners', 'puntRushers',\n",
    "'specialTeamsResult', 'season', 'gameDate', 'gameTimeEastern', 'homeTeamAbbr', 'visitorTeamAbbr',\n",
    "'playDescription', 'possessionTeam', 'specialTeamsPlayType', 'specialTeamsResult', 'kickerId', 'returnerId', 'kickBlockerId',\n",
    "'yardlineSide', 'penaltyJerseyNumbers', 'penaltyCodes', 'playResult',\n",
    "'kickDirectionIntended_L', 'kickDirectionIntended_R', 'kickDirectionIntended_C',\n",
    "'returnDirectionIntended_C', 'returnDirectionIntended_L', 'returnDirectionIntended_R',\n",
    "'specialTeamsSafeties', 'vises', 'penaltyYards', 'passResult', 'return_team_min', 'gameClock', 'down'], axis=1)"
   ]
  },
  {
   "cell_type": "code",
   "execution_count": null,
   "metadata": {},
   "outputs": [],
   "source": [
    "data['kickReturnYardage'].isnull().sum().sum()"
   ]
  },
  {
   "cell_type": "code",
   "execution_count": null,
   "metadata": {},
   "outputs": [],
   "source": [
    "data = data.dropna()"
   ]
  },
  {
   "cell_type": "markdown",
   "metadata": {},
   "source": [
    "Box plot of kick return values"
   ]
  },
  {
   "cell_type": "code",
   "execution_count": null,
   "metadata": {},
   "outputs": [],
   "source": [
    "kry = data['kickReturnYardage']\n",
    "new_kry = kry[kry.values < 26]\n",
    "plt.boxplot(new_kry.values)"
   ]
  },
  {
   "cell_type": "code",
   "execution_count": null,
   "metadata": {},
   "outputs": [],
   "source": [
    "# get rid of values in dataframe where kick return yardage is > 25\n",
    "data = data[data['kickReturnYardage'] < 25]"
   ]
  },
  {
   "cell_type": "code",
   "execution_count": null,
   "metadata": {},
   "outputs": [],
   "source": [
    "# we'll use the same x values as what got me the highest score in the linear regression model\n",
    "x = data.loc[:, ['hangTime', 'snapTime', 'operationTime', 'kickLength', 'yardsToGo', 'yardlineNumber',  'kicking_team__mean', 'kicking_team_std', 'kicking_team_min',\n",
    "       'return_team__mean', 'return_team_std', 'kickType_A',\n",
    "       'kickType_N', 'kickDirectionActual_C', 'kickDirectionActual_L',\n",
    "       'kickDirectionActual_R', 'returnDirectionActual_C',\n",
    "       'returnDirectionActual_L', 'returnDirectionActual_R', 'snapDetail_<', 'snapDetail_>',\n",
    "       'snapDetail_H', 'snapDetail_L', 'snapDetail_OK']]\n",
    "\n",
    "# data normalization\n",
    "x = (x - np.mean(x, axis=0)) / np.std(x, axis=0)\n",
    "x = x.values\n",
    "\n"
   ]
  },
  {
   "cell_type": "code",
   "execution_count": null,
   "metadata": {},
   "outputs": [],
   "source": [
    "# target variable\n",
    "y = data['kickReturnYardage'].values\n",
    "# need to encode y into categories like i did before the SOM\n",
    "# initialize label encoder class\n",
    "label_encoder = LabelEncoder()\n",
    "# set the bins\n",
    "bins = pd.cut(y, [-20, 0, 10, 20, 150], retbins=True)\n",
    "# have to change the bins now - will only be 3: less than 20, 1-10, 10-20\n",
    "# bins = pd.cut(y, [-20, 0, 10, 20], retbins=True)\n",
    "# encode the y values\n",
    "encoded_y = label_encoder.fit_transform(bins[0])"
   ]
  },
  {
   "cell_type": "code",
   "execution_count": null,
   "metadata": {},
   "outputs": [],
   "source": [
    "#split the dataset into training (70%) and testing (30%) sets\n",
    "X_train,X_test,y_train,y_test = train_test_split(x,encoded_y,test_size=0.3,random_state=0)  "
   ]
  },
  {
   "cell_type": "code",
   "execution_count": null,
   "metadata": {},
   "outputs": [],
   "source": [
    "#instantiate the model\n",
    "log_regression = LogisticRegression()\n",
    "\n",
    "#fit the model using the training data\n",
    "log_regression.fit(X_train,y_train)\n",
    "\n",
    "#use model to make predictions on test data\n",
    "y_pred = log_regression.predict(X_test)"
   ]
  },
  {
   "cell_type": "code",
   "execution_count": null,
   "metadata": {},
   "outputs": [],
   "source": [
    "cnf_matrix = metrics.confusion_matrix(y_test, y_pred)\n",
    "cnf_matrix"
   ]
  },
  {
   "cell_type": "code",
   "execution_count": null,
   "metadata": {},
   "outputs": [],
   "source": [
    "print(\"Accuracy:\",metrics.accuracy_score(y_test, y_pred))"
   ]
  },
  {
   "cell_type": "markdown",
   "metadata": {},
   "source": [
    "# Applying cross validation"
   ]
  },
  {
   "cell_type": "code",
   "execution_count": null,
   "metadata": {},
   "outputs": [],
   "source": [
    "cv_results = cross_validate(log_regression, x, encoded_y, cv=3)\n",
    "cv_results['test_score']\n"
   ]
  },
  {
   "cell_type": "code",
   "execution_count": null,
   "metadata": {},
   "outputs": [],
   "source": [
    "cv_results = cross_validate(log_regression, x, encoded_y, cv=10)\n",
    "cv_results['test_score']\n"
   ]
  }
 ],
 "metadata": {
  "language_info": {
   "name": "python"
  },
  "orig_nbformat": 4
 },
 "nbformat": 4,
 "nbformat_minor": 2
}
